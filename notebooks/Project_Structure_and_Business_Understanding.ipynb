{
 "cells": [
  {
   "cell_type": "markdown",
   "metadata": {},
   "source": [
    "## CRISP-DM\n",
    "![CRISP-DM](../reports/figures/CRISP_DM.png)"
   ]
  },
  {
   "cell_type": "markdown",
   "metadata": {},
   "source": [
    "### Project Structure with Cookiecutter Data Science\n",
    "[Cookiecutter Data Science](https://drivendata.github.io/cookiecutter-data-science/)"
   ]
  },
  {
   "cell_type": "code",
   "execution_count": 3,
   "metadata": {
    "tags": []
   },
   "outputs": [
    {
     "output_type": "stream",
     "name": "stdout",
     "text": "Collecting cookiecutter\n  Using cached cookiecutter-1.7.2-py2.py3-none-any.whl (34 kB)\nRequirement already satisfied: MarkupSafe<2.0.0 in /home/faaizz/anaconda3/lib/python3.7/site-packages (from cookiecutter) (1.1.1)\nRequirement already satisfied: click>=7.0 in /home/faaizz/anaconda3/lib/python3.7/site-packages (from cookiecutter) (7.0)\nProcessing /home/faaizz/.cache/pip/wheels/48/1b/6f/5c1cfab22eacbe0095fc619786da6571b55253653c71324b5c/python_slugify-4.0.1-py2.py3-none-any.whl\nCollecting jinja2-time>=0.2.0\n  Using cached jinja2_time-0.2.0-py2.py3-none-any.whl (6.4 kB)\nCollecting binaryornot>=0.4.4\n  Using cached binaryornot-0.4.4-py2.py3-none-any.whl (9.0 kB)\nRequirement already satisfied: Jinja2<3.0.0 in /home/faaizz/anaconda3/lib/python3.7/site-packages (from cookiecutter) (2.11.1)\nCollecting poyo>=0.5.0\n  Using cached poyo-0.5.0-py2.py3-none-any.whl (10 kB)\nCollecting requests>=2.23.0\n  Using cached requests-2.24.0-py2.py3-none-any.whl (61 kB)\nRequirement already satisfied: six>=1.10 in /home/faaizz/anaconda3/lib/python3.7/site-packages (from cookiecutter) (1.14.0)\nCollecting text-unidecode>=1.3\n  Using cached text_unidecode-1.3-py2.py3-none-any.whl (78 kB)\nCollecting arrow\n  Using cached arrow-0.15.7-py2.py3-none-any.whl (48 kB)\nRequirement already satisfied: chardet>=3.0.2 in /home/faaizz/anaconda3/lib/python3.7/site-packages (from binaryornot>=0.4.4->cookiecutter) (3.0.4)\nRequirement already satisfied: urllib3!=1.25.0,!=1.25.1,<1.26,>=1.21.1 in /home/faaizz/anaconda3/lib/python3.7/site-packages (from requests>=2.23.0->cookiecutter) (1.25.8)\nRequirement already satisfied: certifi>=2017.4.17 in /home/faaizz/anaconda3/lib/python3.7/site-packages (from requests>=2.23.0->cookiecutter) (2019.11.28)\nRequirement already satisfied: idna<3,>=2.5 in /home/faaizz/anaconda3/lib/python3.7/site-packages (from requests>=2.23.0->cookiecutter) (2.8)\nRequirement already satisfied: python-dateutil in /home/faaizz/anaconda3/lib/python3.7/site-packages (from arrow->jinja2-time>=0.2.0->cookiecutter) (2.8.1)\nInstalling collected packages: text-unidecode, python-slugify, arrow, jinja2-time, binaryornot, poyo, requests, cookiecutter\n  Attempting uninstall: requests\n    Found existing installation: requests 2.22.0\n    Uninstalling requests-2.22.0:\n      Successfully uninstalled requests-2.22.0\nSuccessfully installed arrow-0.15.7 binaryornot-0.4.4 cookiecutter-1.7.2 jinja2-time-0.2.0 poyo-0.5.0 python-slugify-4.0.1 requests-2.24.0 text-unidecode-1.3\nYou've downloaded /home/faaizz/.cookiecutters/cookiecutter-data-science before. Is it okay to delete and re-download it? [yes]:^C\nAborted!\n"
    }
   ],
   "source": [
    "# On first Run\n",
    "# !pip install cookiecutter\n",
    "# !cookiecutter https://github.com/drivendata/cookiecutter-data-science"
   ]
  },
  {
   "cell_type": "markdown",
   "metadata": {},
   "source": [
    "## Business Understanding\n",
    "### Business Objectives\n",
    "We would like to track COVID-19 spread across the world and with particular emphasis on Nigeria."
   ]
  },
  {
   "cell_type": "markdown",
   "metadata": {},
   "source": [
    "### Goals\n",
    "- Investigate data quality\n",
    "- Automate as much as possible. This can be measured by the number of clicks required to execute the entire pipeline"
   ]
  },
  {
   "cell_type": "markdown",
   "metadata": {},
   "source": [
    "## Data Understanding\n",
    "### Data Gathering\n",
    "- GITHUB\n",
    "- REST API\n",
    "- Web Scraping"
   ]
  },
  {
   "cell_type": "markdown",
   "metadata": {},
   "source": [
    "## Data Preparation"
   ]
  }
 ],
 "metadata": {
  "kernelspec": {
   "display_name": "Python 3",
   "language": "python",
   "name": "python3"
  },
  "language_info": {
   "codemirror_mode": {
    "name": "ipython",
    "version": 3
   },
   "file_extension": ".py",
   "mimetype": "text/x-python",
   "name": "python",
   "nbconvert_exporter": "python",
   "pygments_lexer": "ipython3",
   "version": "3.8.2-final"
  }
 },
 "nbformat": 4,
 "nbformat_minor": 4
}