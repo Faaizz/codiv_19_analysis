{
 "cells": [
  {
   "cell_type": "code",
   "execution_count": 15,
   "metadata": {},
   "outputs": [],
   "source": [
    "# Imports\n",
    "import os, subprocess, json\n",
    "\n",
    "# Environmental Variables\n",
    "from dotenv import load_dotenv\n",
    "\n",
    "import pandas as pd\n",
    "\n",
    "# HTTP Client\n",
    "import requests\n",
    "# For parsing and sifting through HTML\n",
    "from bs4 import BeautifulSoup\n",
    "\n"
   ]
  },
  {
   "cell_type": "code",
   "execution_count": 16,
   "metadata": {
    "tags": []
   },
   "outputs": [],
   "source": [
    "# Load environmental variables specified in .env\n",
    "load_dotenv()\n",
    "\n",
    "# Set max rows for Pandas\n",
    "pd.set_option('display.max_rows', 500)"
   ]
  },
  {
   "cell_type": "markdown",
   "metadata": {},
   "source": [
    "## CRISP-DM\n",
    "![CRISP-DM](../reports/figures/CRISP_DM.png)"
   ]
  },
  {
   "cell_type": "markdown",
   "metadata": {},
   "source": [
    "# Data Understanding"
   ]
  },
  {
   "cell_type": "markdown",
   "metadata": {},
   "source": [
    "## Data Sources:\n",
    "**Wordlwide:**\n",
    "- [John Hopkings](https://github.com/CSSEGISandData/COVID-19.git) (GITHUB)\n",
    "- [REST API services to retrieve Data](https://npgeo-corona-npgeo-de.hub.arcgis.com/)\n",
    "\n",
    "**Nigeria:**\n",
    "- [Nigeria Center for Disease Contrl (NCDC)](https://covid19.ncdc.gov.ng/)\n",
    "\n",
    "**Germany:**\n",
    "- [Robert Koch Institute](https://www.rki.de/DE/Content/InfAZ/N/Neuartiges_Coronavirus/Fallzahlen.html) (webscraping)"
   ]
  },
  {
   "cell_type": "markdown",
   "metadata": {},
   "source": [
    "## GITHUB- John Hopkings"
   ]
  },
  {
   "cell_type": "code",
   "execution_count": 17,
   "metadata": {
    "tags": []
   },
   "outputs": [
    {
     "output_type": "stream",
     "name": "stdout",
     "text": "b'From https://github.com/CSSEGISandData/COVID-19\\n   061a439d..c45ac5ba  master     -> origin/master\\n   f910d50b..6af92833  web-data   -> origin/web-data\\nUpdating 061a439d..c45ac5ba\\nFast-forward\\n README.md                                          |  10 +-\\n csse_covid_19_data/README.md                       |  14 +-\\n csse_covid_19_data/UID_ISO_FIPS_LookUp_Table.csv   |   1 +\\n .../csse_covid_19_time_series/Errata.csv           |   2 +\\n .../time_series_covid19_confirmed_global.csv       | 534 ++++++++++-----------\\n .../time_series_covid19_deaths_global.csv          | 534 ++++++++++-----------\\n 6 files changed, 550 insertions(+), 545 deletions(-)\\n'\n"
    }
   ],
   "source": [
    "# Create directory for John Hopkins Dataset if it doesn't already exist\n",
    "if(not os.path.exists(\"../data/raw/JH_dataset\")):\n",
    "    # Create directory\n",
    "    os.mkdir(\"../data/raw/JH_dataset\")\n",
    "\n",
    "# Check if Dataset doesn't already exist in filesystem\n",
    "if(not os.path.exists(\"../data/raw/JH_dataset/COVID-19\")):\n",
    "    # Command to clone dataset\n",
    "    cmd=  \"git clone https://github.com/CSSEGISandData/COVID-19.git\"\n",
    "    cmd_wd= \"../data/raw/JH_dataset\"\n",
    "\n",
    "# Otherwise if Dataset repo has already been cloned, peform pull operation\n",
    "else:\n",
    "    cmd= \"git pull\"\n",
    "    cmd_wd= \"../data/raw/JH_dataset/COVID-19\"\n",
    "\n",
    "\n",
    "# Git process\n",
    "git_proc= subprocess.Popen(\n",
    "    cmd,\n",
    "    cwd=cmd_wd, shell=True, \n",
    "    stdout= subprocess.PIPE, stderr= subprocess.STDOUT\n",
    ")\n",
    "\n",
    "# Communicate with child process and set timeout\n",
    "# Timeout\n",
    "# Give a maximum of 10 mins because cloning might take a while\n",
    "proc_timeout= 600\n",
    "try:\n",
    "    git_proc_out= git_proc.communicate(timeout=proc_timeout)[0]\n",
    "    print(str(git_proc_out))\n",
    "except TimeoutError:\n",
    "    print(\"Git operation on John Hopkins Dataset from GITHUB failed...\\n\")\n",
    "\n"
   ]
  },
  {
   "cell_type": "code",
   "execution_count": 18,
   "metadata": {},
   "outputs": [],
   "source": [
    "# Data path\n",
    "data_path= \"../data/raw/JH_dataset/COVID-19/csse_covid_19_data/csse_covid_19_time_series/time_series_covid19_confirmed_global.csv\"\n",
    "# Raw data\n",
    "pd_raw= pd.read_csv(data_path)"
   ]
  },
  {
   "cell_type": "markdown",
   "metadata": {},
   "source": [
    "## REST API- [Smartable](smartable.ai)"
   ]
  },
  {
   "cell_type": "code",
   "execution_count": 19,
   "metadata": {
    "tags": []
   },
   "outputs": [],
   "source": [
    "# Create directory for Smartable.ai Dataset if it doesn't already exist\n",
    "if(not os.path.exists(\"../data/raw/SMARTABLE\")):\n",
    "    # Create directory\n",
    "    os.mkdir(\"../data/raw/SMARTABLE\")\n",
    "\n",
    "# Endpoint URL for Nigeria stats\n",
    "api_end_url=\"https://api.smartable.ai/coronavirus/stats/NG\"\n",
    "\n",
    "# Setup Headers for API call\n",
    "headers={\n",
    "    \"Cache-Control\": \"no-cache\",\n",
    "    \"Subscription-Key\": os.getenv(\"SMAI_PRIMARY_KEY\")\n",
    "}\n",
    "\n",
    "# Make API call\n",
    "res= requests.get(api_end_url, headers=headers)\n",
    "# Load JSON response\n",
    "res_json= json.loads(res.content)\n",
    "# Save data to file\n",
    "with open(\"../data/raw/SMARTABLE/NG_data.json\", \"w\") as js_fp:\n",
    "    json.dump(res_json, js_fp, indent=4)\n",
    "\n",
    "\n",
    "# Index the data with dates as primary key\n",
    "daily_stats= []\n",
    "for a_day in res_json[\"stats\"][\"history\"]:\n",
    "    daily_stats.append([\n",
    "        a_day[\"date\"], a_day[\"confirmed\"], \n",
    "        a_day[\"deaths\"], a_day[\"recovered\"]\n",
    "    ])\n",
    "\n",
    "# Create pandas frame from data\n",
    "col_names= {\n",
    "    0: \"date\", 1: \"confirmed\", 2: \"deaths\",\n",
    "    3: \"recovered\"\n",
    "}\n",
    "# New frame\n",
    "pd_frame= pd.DataFrame(daily_stats).rename(columns=col_names)\n",
    "# Show frame\n",
    "pd_frame\n",
    "# Write frame to .csv\n",
    "pd_frame.to_csv(\n",
    "    \"../data/processed/SMARTABLE_daily_NG.csv\", sep=\";\", index=False\n",
    ")\n",
    "\n"
   ]
  },
  {
   "cell_type": "markdown",
   "metadata": {},
   "source": [
    "## Web Scraping\n",
    "- **Data Miner** for Chrome is a nice tool that might come in handy\n"
   ]
  },
  {
   "cell_type": "markdown",
   "metadata": {},
   "source": [
    "### Web Scraping- Robert Koch Institute"
   ]
  },
  {
   "cell_type": "code",
   "execution_count": 20,
   "metadata": {},
   "outputs": [],
   "source": [
    "# Get Robert Koch Institute page\n",
    "page= requests.get(\"https://www.rki.de/DE/Content/InfAZ/N/Neuartiges_Coronavirus/Fallzahlen.html\")"
   ]
  },
  {
   "cell_type": "code",
   "execution_count": 21,
   "metadata": {},
   "outputs": [],
   "source": [
    "# Parse HTML\n",
    "soup=  BeautifulSoup(page.content, 'html.parser')"
   ]
  },
  {
   "cell_type": "code",
   "execution_count": 22,
   "metadata": {},
   "outputs": [],
   "source": [
    "# Find table\n",
    "html_table= soup.find('table')\n",
    "# Find rows in table\n",
    "table_rows= html_table.find_all('tr')"
   ]
  },
  {
   "cell_type": "code",
   "execution_count": 23,
   "metadata": {
    "tags": []
   },
   "outputs": [],
   "source": [
    "# Data List\n",
    "data_list= []\n",
    "\n",
    "# Loop through table rows\n",
    "for idx,row in enumerate(table_rows):\n",
    "    # print(idx)\n",
    "    # print(row)\n",
    "    # print(\"============\")\n",
    "    # Pull out columns from rows\n",
    "    # for col in row.find_all('td'):\n",
    "    #     # print(col)\n",
    "    #     # Get text\n",
    "    #     print(col.get_text(strip=True))\n",
    "    col_list=[col.get_text(strip=True) for col in row.find_all('td')]\n",
    "    data_list.append(col_list)\n",
    "\n"
   ]
  },
  {
   "cell_type": "code",
   "execution_count": 24,
   "metadata": {},
   "outputs": [
    {
     "output_type": "execute_result",
     "data": {
      "text/plain": "                       state   number diff. to prev. day last 7 days    4  \\\n2         Baden-Württem­berg   36.264                +37         228  2,1   \n3                     Bayern   49.631                +93         481  3,7   \n4                     Berlin    8.725                +26         123  3,3   \n5               Branden­burg    3.470                 +4          19  0,8   \n6                     Bremen    1.701                 +4          13  1,9   \n7                    Hamburg    5.232                 -1           6  0,3   \n8                     Hessen   11.324                +41         217  3,5   \n9   Meck­lenburg-Vor­pommern      805                  0           1  0,1   \n10            Nieder­sachsen   13.905                +18          92  1,2   \n11     Nord­rhein-West­falen   45.710               +322       1.026  5,7   \n12          Rhein­land-Pfalz    7.275                +17         141  3,5   \n13                  Saarland    2.827                 +3          15  1,5   \n14                   Sachsen    5.485                 +1          13  0,3   \n15            Sachsen-Anhalt    1.936                +10          29  1,3   \n16       Schles­wig-Holstein    3.238                 +3          34  1,2   \n17                 Thüringen    3.315                 +5          26  1,2   \n18                    Gesamt  200.843               +583       2.464  3,0   \n\n   deaths  \n2   1.839  \n3   2.616  \n4     221  \n5     167  \n6      55  \n7     260  \n8     514  \n9      20  \n10    644  \n11  1.711  \n12    238  \n13    174  \n14    225  \n15     62  \n16    154  \n17    182  \n18  9.082  ",
      "text/html": "<div>\n<style scoped>\n    .dataframe tbody tr th:only-of-type {\n        vertical-align: middle;\n    }\n\n    .dataframe tbody tr th {\n        vertical-align: top;\n    }\n\n    .dataframe thead th {\n        text-align: right;\n    }\n</style>\n<table border=\"1\" class=\"dataframe\">\n  <thead>\n    <tr style=\"text-align: right;\">\n      <th></th>\n      <th>state</th>\n      <th>number</th>\n      <th>diff. to prev. day</th>\n      <th>last 7 days</th>\n      <th>4</th>\n      <th>deaths</th>\n    </tr>\n  </thead>\n  <tbody>\n    <tr>\n      <th>2</th>\n      <td>Baden-Württem­berg</td>\n      <td>36.264</td>\n      <td>+37</td>\n      <td>228</td>\n      <td>2,1</td>\n      <td>1.839</td>\n    </tr>\n    <tr>\n      <th>3</th>\n      <td>Bayern</td>\n      <td>49.631</td>\n      <td>+93</td>\n      <td>481</td>\n      <td>3,7</td>\n      <td>2.616</td>\n    </tr>\n    <tr>\n      <th>4</th>\n      <td>Berlin</td>\n      <td>8.725</td>\n      <td>+26</td>\n      <td>123</td>\n      <td>3,3</td>\n      <td>221</td>\n    </tr>\n    <tr>\n      <th>5</th>\n      <td>Branden­burg</td>\n      <td>3.470</td>\n      <td>+4</td>\n      <td>19</td>\n      <td>0,8</td>\n      <td>167</td>\n    </tr>\n    <tr>\n      <th>6</th>\n      <td>Bremen</td>\n      <td>1.701</td>\n      <td>+4</td>\n      <td>13</td>\n      <td>1,9</td>\n      <td>55</td>\n    </tr>\n    <tr>\n      <th>7</th>\n      <td>Hamburg</td>\n      <td>5.232</td>\n      <td>-1</td>\n      <td>6</td>\n      <td>0,3</td>\n      <td>260</td>\n    </tr>\n    <tr>\n      <th>8</th>\n      <td>Hessen</td>\n      <td>11.324</td>\n      <td>+41</td>\n      <td>217</td>\n      <td>3,5</td>\n      <td>514</td>\n    </tr>\n    <tr>\n      <th>9</th>\n      <td>Meck­lenburg-Vor­pommern</td>\n      <td>805</td>\n      <td>0</td>\n      <td>1</td>\n      <td>0,1</td>\n      <td>20</td>\n    </tr>\n    <tr>\n      <th>10</th>\n      <td>Nieder­sachsen</td>\n      <td>13.905</td>\n      <td>+18</td>\n      <td>92</td>\n      <td>1,2</td>\n      <td>644</td>\n    </tr>\n    <tr>\n      <th>11</th>\n      <td>Nord­rhein-West­falen</td>\n      <td>45.710</td>\n      <td>+322</td>\n      <td>1.026</td>\n      <td>5,7</td>\n      <td>1.711</td>\n    </tr>\n    <tr>\n      <th>12</th>\n      <td>Rhein­land-Pfalz</td>\n      <td>7.275</td>\n      <td>+17</td>\n      <td>141</td>\n      <td>3,5</td>\n      <td>238</td>\n    </tr>\n    <tr>\n      <th>13</th>\n      <td>Saarland</td>\n      <td>2.827</td>\n      <td>+3</td>\n      <td>15</td>\n      <td>1,5</td>\n      <td>174</td>\n    </tr>\n    <tr>\n      <th>14</th>\n      <td>Sachsen</td>\n      <td>5.485</td>\n      <td>+1</td>\n      <td>13</td>\n      <td>0,3</td>\n      <td>225</td>\n    </tr>\n    <tr>\n      <th>15</th>\n      <td>Sachsen-Anhalt</td>\n      <td>1.936</td>\n      <td>+10</td>\n      <td>29</td>\n      <td>1,3</td>\n      <td>62</td>\n    </tr>\n    <tr>\n      <th>16</th>\n      <td>Schles­wig-Holstein</td>\n      <td>3.238</td>\n      <td>+3</td>\n      <td>34</td>\n      <td>1,2</td>\n      <td>154</td>\n    </tr>\n    <tr>\n      <th>17</th>\n      <td>Thüringen</td>\n      <td>3.315</td>\n      <td>+5</td>\n      <td>26</td>\n      <td>1,2</td>\n      <td>182</td>\n    </tr>\n    <tr>\n      <th>18</th>\n      <td>Gesamt</td>\n      <td>200.843</td>\n      <td>+583</td>\n      <td>2.464</td>\n      <td>3,0</td>\n      <td>9.082</td>\n    </tr>\n  </tbody>\n</table>\n</div>"
     },
     "metadata": {},
     "execution_count": 24
    }
   ],
   "source": [
    "# Display data in Pandas\n",
    "scraped_data= pd.DataFrame(data_list)\n",
    "# Remove empty rows\n",
    "scraped_data= scraped_data.dropna()\n",
    "# Rename column\n",
    "scraped_data= scraped_data.rename(columns={0:\"state\", 1:'number', 2:'diff. to prev. day', 3:'last 7 days', 5:'deaths'})\n",
    "scraped_data"
   ]
  },
  {
   "cell_type": "markdown",
   "metadata": {},
   "source": [
    "### Web Scraping- Nigeria Centre for Disease Control (NCDC)\n"
   ]
  },
  {
   "cell_type": "code",
   "execution_count": 25,
   "metadata": {},
   "outputs": [],
   "source": [
    "# Pull page on COVID-19\n",
    "page= requests.get(\"https://covid19.ncdc.gov.ng/\")"
   ]
  },
  {
   "cell_type": "code",
   "execution_count": 26,
   "metadata": {},
   "outputs": [],
   "source": [
    "# Parse HTML\n",
    "parsed_page= BeautifulSoup(page.content, 'html.parser')\n",
    "# Pull Table\n",
    "html_table= parsed_page.find('table')\n",
    "# Pull table rows\n",
    "table_rows= html_table.find_all('tr')\n",
    "\n",
    "# Table Header\n",
    "table_header= dict()\n",
    "# Table data\n",
    "table_data=[]\n",
    "\n",
    "# Loop through table rows\n",
    "for idx,row in enumerate(table_rows):\n",
    "    # Table headers in first row\n",
    "    if(idx==0):\n",
    "        # Pull column headers\n",
    "        col_headers= row.find_all('th')\n",
    "        col_headers\n",
    "        # Make a dictionary of column headers\n",
    "        table_headers= { idx:col_header.get_text(strip=True) for idx,col_header in enumerate(col_headers) }\n",
    "    \n",
    "    # Table data\n",
    "    # Get row columns\n",
    "    row_cols= row.find_all('td')\n",
    "    # Get data body into list\n",
    "    row_data= [ col.get_text(strip=True) for col in row_cols ]\n",
    "    # Append col to row list\n",
    "    table_data.append(row_data)\n"
   ]
  },
  {
   "cell_type": "code",
   "execution_count": 27,
   "metadata": {},
   "outputs": [
    {
     "output_type": "execute_result",
     "data": {
      "text/plain": "   States Affected No. of Cases (Lab Confirmed) No. of Cases (on admission)  \\\n1            Lagos                       13,097                      10,973   \n2              FCT                        2,761                       1,882   \n3              Oyo                        1,989                         959   \n4              Edo                        1,874                         662   \n5           Rivers                        1,480                         469   \n6            Delta                        1,404                         784   \n7             Kano                        1,331                         243   \n8             Ogun                        1,146                         347   \n9           Kaduna                        1,087                         331   \n10            Ondo                          865                         705   \n11         Katsina                          669                         205   \n12          Ebonyi                          646                         104   \n13         Plateau                          595                         319   \n14           Borno                          593                          94   \n15           Enugu                          560                         214   \n16           Gombe                          537                          40   \n17          Bauchi                          522                           4   \n18            Abia                          456                          88   \n19           Kwara                          422                         229   \n20             Imo                          420                         333   \n21            Osun                          328                         235   \n22          Jigawa                          322                           3   \n23         Bayelsa                          318                         136   \n24        Nasarawa                          254                         133   \n25       Akwa Ibom                          162                          47   \n26          Sokoto                          153                           0   \n27           Niger                          145                          30   \n28           Benue                          143                          95   \n29         Anambra                          118                          41   \n30         Adamawa                          111                          20   \n31           Kebbi                           88                           7   \n32         Zamfara                           76                           0   \n33           Ekiti                           72                          30   \n34            Yobe                           63                           4   \n35          Taraba                           30                          19   \n36     Cross River                           12                           8   \n37            Kogi                            5                           0   \n\n   No. Discharged No. of Deaths  \n1           1,948           176  \n2             840            39  \n3           1,011            19  \n4           1,150            62  \n5             964            47  \n6             585            35  \n7           1,035            53  \n8             777            22  \n9             744            12  \n10            139            21  \n11            441            23  \n12            532            10  \n13            260            16  \n14            464            35  \n15            330            16  \n16            475            22  \n17            505            13  \n18            365             3  \n19            179            14  \n20             78             9  \n21             84             9  \n22            308            11  \n23            163            19  \n24            113             8  \n25            112             3  \n26            137            16  \n27            108             7  \n28             42             6  \n29             67            10  \n30             83             8  \n31             74             7  \n32             71             5  \n33             40             2  \n34             51             8  \n35             11             0  \n36              3             1  \n37              3             2  ",
      "text/html": "<div>\n<style scoped>\n    .dataframe tbody tr th:only-of-type {\n        vertical-align: middle;\n    }\n\n    .dataframe tbody tr th {\n        vertical-align: top;\n    }\n\n    .dataframe thead th {\n        text-align: right;\n    }\n</style>\n<table border=\"1\" class=\"dataframe\">\n  <thead>\n    <tr style=\"text-align: right;\">\n      <th></th>\n      <th>States Affected</th>\n      <th>No. of Cases (Lab Confirmed)</th>\n      <th>No. of Cases (on admission)</th>\n      <th>No. Discharged</th>\n      <th>No. of Deaths</th>\n    </tr>\n  </thead>\n  <tbody>\n    <tr>\n      <th>1</th>\n      <td>Lagos</td>\n      <td>13,097</td>\n      <td>10,973</td>\n      <td>1,948</td>\n      <td>176</td>\n    </tr>\n    <tr>\n      <th>2</th>\n      <td>FCT</td>\n      <td>2,761</td>\n      <td>1,882</td>\n      <td>840</td>\n      <td>39</td>\n    </tr>\n    <tr>\n      <th>3</th>\n      <td>Oyo</td>\n      <td>1,989</td>\n      <td>959</td>\n      <td>1,011</td>\n      <td>19</td>\n    </tr>\n    <tr>\n      <th>4</th>\n      <td>Edo</td>\n      <td>1,874</td>\n      <td>662</td>\n      <td>1,150</td>\n      <td>62</td>\n    </tr>\n    <tr>\n      <th>5</th>\n      <td>Rivers</td>\n      <td>1,480</td>\n      <td>469</td>\n      <td>964</td>\n      <td>47</td>\n    </tr>\n    <tr>\n      <th>6</th>\n      <td>Delta</td>\n      <td>1,404</td>\n      <td>784</td>\n      <td>585</td>\n      <td>35</td>\n    </tr>\n    <tr>\n      <th>7</th>\n      <td>Kano</td>\n      <td>1,331</td>\n      <td>243</td>\n      <td>1,035</td>\n      <td>53</td>\n    </tr>\n    <tr>\n      <th>8</th>\n      <td>Ogun</td>\n      <td>1,146</td>\n      <td>347</td>\n      <td>777</td>\n      <td>22</td>\n    </tr>\n    <tr>\n      <th>9</th>\n      <td>Kaduna</td>\n      <td>1,087</td>\n      <td>331</td>\n      <td>744</td>\n      <td>12</td>\n    </tr>\n    <tr>\n      <th>10</th>\n      <td>Ondo</td>\n      <td>865</td>\n      <td>705</td>\n      <td>139</td>\n      <td>21</td>\n    </tr>\n    <tr>\n      <th>11</th>\n      <td>Katsina</td>\n      <td>669</td>\n      <td>205</td>\n      <td>441</td>\n      <td>23</td>\n    </tr>\n    <tr>\n      <th>12</th>\n      <td>Ebonyi</td>\n      <td>646</td>\n      <td>104</td>\n      <td>532</td>\n      <td>10</td>\n    </tr>\n    <tr>\n      <th>13</th>\n      <td>Plateau</td>\n      <td>595</td>\n      <td>319</td>\n      <td>260</td>\n      <td>16</td>\n    </tr>\n    <tr>\n      <th>14</th>\n      <td>Borno</td>\n      <td>593</td>\n      <td>94</td>\n      <td>464</td>\n      <td>35</td>\n    </tr>\n    <tr>\n      <th>15</th>\n      <td>Enugu</td>\n      <td>560</td>\n      <td>214</td>\n      <td>330</td>\n      <td>16</td>\n    </tr>\n    <tr>\n      <th>16</th>\n      <td>Gombe</td>\n      <td>537</td>\n      <td>40</td>\n      <td>475</td>\n      <td>22</td>\n    </tr>\n    <tr>\n      <th>17</th>\n      <td>Bauchi</td>\n      <td>522</td>\n      <td>4</td>\n      <td>505</td>\n      <td>13</td>\n    </tr>\n    <tr>\n      <th>18</th>\n      <td>Abia</td>\n      <td>456</td>\n      <td>88</td>\n      <td>365</td>\n      <td>3</td>\n    </tr>\n    <tr>\n      <th>19</th>\n      <td>Kwara</td>\n      <td>422</td>\n      <td>229</td>\n      <td>179</td>\n      <td>14</td>\n    </tr>\n    <tr>\n      <th>20</th>\n      <td>Imo</td>\n      <td>420</td>\n      <td>333</td>\n      <td>78</td>\n      <td>9</td>\n    </tr>\n    <tr>\n      <th>21</th>\n      <td>Osun</td>\n      <td>328</td>\n      <td>235</td>\n      <td>84</td>\n      <td>9</td>\n    </tr>\n    <tr>\n      <th>22</th>\n      <td>Jigawa</td>\n      <td>322</td>\n      <td>3</td>\n      <td>308</td>\n      <td>11</td>\n    </tr>\n    <tr>\n      <th>23</th>\n      <td>Bayelsa</td>\n      <td>318</td>\n      <td>136</td>\n      <td>163</td>\n      <td>19</td>\n    </tr>\n    <tr>\n      <th>24</th>\n      <td>Nasarawa</td>\n      <td>254</td>\n      <td>133</td>\n      <td>113</td>\n      <td>8</td>\n    </tr>\n    <tr>\n      <th>25</th>\n      <td>Akwa Ibom</td>\n      <td>162</td>\n      <td>47</td>\n      <td>112</td>\n      <td>3</td>\n    </tr>\n    <tr>\n      <th>26</th>\n      <td>Sokoto</td>\n      <td>153</td>\n      <td>0</td>\n      <td>137</td>\n      <td>16</td>\n    </tr>\n    <tr>\n      <th>27</th>\n      <td>Niger</td>\n      <td>145</td>\n      <td>30</td>\n      <td>108</td>\n      <td>7</td>\n    </tr>\n    <tr>\n      <th>28</th>\n      <td>Benue</td>\n      <td>143</td>\n      <td>95</td>\n      <td>42</td>\n      <td>6</td>\n    </tr>\n    <tr>\n      <th>29</th>\n      <td>Anambra</td>\n      <td>118</td>\n      <td>41</td>\n      <td>67</td>\n      <td>10</td>\n    </tr>\n    <tr>\n      <th>30</th>\n      <td>Adamawa</td>\n      <td>111</td>\n      <td>20</td>\n      <td>83</td>\n      <td>8</td>\n    </tr>\n    <tr>\n      <th>31</th>\n      <td>Kebbi</td>\n      <td>88</td>\n      <td>7</td>\n      <td>74</td>\n      <td>7</td>\n    </tr>\n    <tr>\n      <th>32</th>\n      <td>Zamfara</td>\n      <td>76</td>\n      <td>0</td>\n      <td>71</td>\n      <td>5</td>\n    </tr>\n    <tr>\n      <th>33</th>\n      <td>Ekiti</td>\n      <td>72</td>\n      <td>30</td>\n      <td>40</td>\n      <td>2</td>\n    </tr>\n    <tr>\n      <th>34</th>\n      <td>Yobe</td>\n      <td>63</td>\n      <td>4</td>\n      <td>51</td>\n      <td>8</td>\n    </tr>\n    <tr>\n      <th>35</th>\n      <td>Taraba</td>\n      <td>30</td>\n      <td>19</td>\n      <td>11</td>\n      <td>0</td>\n    </tr>\n    <tr>\n      <th>36</th>\n      <td>Cross River</td>\n      <td>12</td>\n      <td>8</td>\n      <td>3</td>\n      <td>1</td>\n    </tr>\n    <tr>\n      <th>37</th>\n      <td>Kogi</td>\n      <td>5</td>\n      <td>0</td>\n      <td>3</td>\n      <td>2</td>\n    </tr>\n  </tbody>\n</table>\n</div>"
     },
     "metadata": {},
     "execution_count": 27
    }
   ],
   "source": [
    "# Make data into Pandas Frame\n",
    "pd_table= pd.DataFrame(table_data)\n",
    "# Remove empty rows\n",
    "pd_table= pd_table.dropna()\n",
    "# Insert column names\n",
    "pd_table= pd_table.rename(columns=table_headers)\n",
    "# Show Frame\n",
    "pd_table"
   ]
  },
  {
   "cell_type": "code",
   "execution_count": null,
   "metadata": {},
   "outputs": [],
   "source": []
  }
 ],
 "metadata": {
  "language_info": {
   "codemirror_mode": {
    "name": "ipython",
    "version": 3
   },
   "file_extension": ".py",
   "mimetype": "text/x-python",
   "name": "python",
   "nbconvert_exporter": "python",
   "pygments_lexer": "ipython3",
   "version": "3.8.2-final"
  },
  "orig_nbformat": 2,
  "kernelspec": {
   "name": "python3",
   "display_name": "Python 3"
  }
 },
 "nbformat": 4,
 "nbformat_minor": 2
}