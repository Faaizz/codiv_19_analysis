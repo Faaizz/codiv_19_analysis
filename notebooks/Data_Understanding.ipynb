{
 "cells": [
  {
   "cell_type": "code",
   "execution_count": 9,
   "metadata": {},
   "outputs": [],
   "source": [
    "# Imports\n",
    "import os, subprocess, json\n",
    "\n",
    "# Environmental Variables\n",
    "from dotenv import load_dotenv\n",
    "\n",
    "import pandas as pd\n",
    "\n",
    "# HTTP Client\n",
    "import requests\n",
    "# For parsing and sifting through HTML\n",
    "from bs4 import BeautifulSoup\n",
    "\n"
   ]
  },
  {
   "cell_type": "code",
   "execution_count": 3,
   "metadata": {
    "tags": []
   },
   "outputs": [
    {
     "output_type": "stream",
     "name": "stdout",
     "text": "1745e47cb28d4822b0e33cfa2c1d3343\n"
    }
   ],
   "source": [
    "# Load environmental variables specified in .env\n",
    "load_dotenv()\n",
    "\n",
    "# Set max rows for Pandas\n",
    "pd.set_option('display.max_rows', 500)"
   ]
  },
  {
   "cell_type": "markdown",
   "metadata": {},
   "source": [
    "## CRISP-DM\n",
    "![CRISP-DM](../reports/figures/CRISP_DM.png)"
   ]
  },
  {
   "cell_type": "markdown",
   "metadata": {},
   "source": [
    "# Data Understanding"
   ]
  },
  {
   "cell_type": "markdown",
   "metadata": {},
   "source": [
    "## Data Sources:\n",
    "**Wordlwide:**\n",
    "- [John Hopkings](https://github.com/CSSEGISandData/COVID-19.git) (GITHUB)\n",
    "- [REST API services to retrieve Data](https://npgeo-corona-npgeo-de.hub.arcgis.com/)\n",
    "\n",
    "**Nigeria:**\n",
    "- [Nigeria Center for Disease Contrl (NCDC)](https://covid19.ncdc.gov.ng/)\n",
    "\n",
    "**Germany:**\n",
    "- [Robert Koch Institute](https://www.rki.de/DE/Content/InfAZ/N/Neuartiges_Coronavirus/Fallzahlen.html) (webscraping)"
   ]
  },
  {
   "cell_type": "markdown",
   "metadata": {},
   "source": [
    "## GITHUB- John Hopkings"
   ]
  },
  {
   "cell_type": "code",
   "execution_count": 12,
   "metadata": {
    "tags": []
   },
   "outputs": [
    {
     "output_type": "stream",
     "name": "stdout",
     "text": "b\"Cloning into 'COVID-19'...\\nUpdating files:  94% (470/496)\\rUpdating files:  95% (472/496)\\rUpdating files:  96% (477/496)\\rUpdating files:  97% (482/496)\\rUpdating files:  98% (487/496)\\rUpdating files:  99% (492/496)\\rUpdating files: 100% (496/496)\\rUpdating files: 100% (496/496), done.\\n\"\n"
    }
   ],
   "source": [
    "# Create directory for John Hopkins Dataset if it doesn't already exist\n",
    "if(not os.path.exists(\"../data/raw/JH_dataset\")):\n",
    "    # Create directory\n",
    "    os.mkdir(\"../data/raw/JH_dataset\")\n",
    "\n",
    "# Check if Dataset doesn't already exist in filesystem\n",
    "if(not os.path.exists(\"../data/raw/JH_dataset/COVID-19\")):\n",
    "    # Command to clone dataset\n",
    "    cmd=  \"git clone https://github.com/CSSEGISandData/COVID-19.git\"\n",
    "    cmd_wd= \"../data/raw/JH_dataset\"\n",
    "\n",
    "# Otherwise if Dataset repo has already been cloned, peform pull operation\n",
    "else:\n",
    "    cmd= \"git pull\"\n",
    "    cmd_wd= \"../data/raw/JH_dataset/COVID-19\"\n",
    "\n",
    "\n",
    "# Git process\n",
    "git_proc= subprocess.Popen(\n",
    "    cmd,\n",
    "    cwd=cmd_wd, shell=True, \n",
    "    stdout= subprocess.PIPE, stderr= subprocess.STDOUT\n",
    ")\n",
    "\n",
    "# Communicate with child process and set timeout\n",
    "# Timeout\n",
    "# Give a maximum of 10 mins because cloning might take a while\n",
    "proc_timeout= 600\n",
    "try:\n",
    "    git_proc_out= git_proc.communicate(timeout=proc_timeout)[0]\n",
    "    print(str(git_proc_out))\n",
    "except TimeoutError:\n",
    "    print(\"Git operation on John Hopkins Dataset from GITHUB failed...\\n\")\n",
    "\n"
   ]
  },
  {
   "cell_type": "code",
   "execution_count": 13,
   "metadata": {},
   "outputs": [],
   "source": [
    "# Data path\n",
    "data_path= \"../data/raw/JH_dataset/COVID-19/csse_covid_19_data/csse_covid_19_time_series/time_series_covid19_confirmed_global.csv\"\n",
    "# Raw data\n",
    "pd_raw= pd.read_csv(data_path)"
   ]
  },
  {
   "cell_type": "markdown",
   "metadata": {},
   "source": [
    "## REST API- [Smartable](smartable.ai)"
   ]
  },
  {
   "cell_type": "code",
   "execution_count": 18,
   "metadata": {
    "tags": []
   },
   "outputs": [],
   "source": [
    "# Create directory for Smartable.ai Dataset if it doesn't already exist\n",
    "if(not os.path.exists(\"../data/raw/SMARTABLE\")):\n",
    "    # Create directory\n",
    "    os.mkdir(\"../data/raw/SMARTABLE\")\n",
    "\n",
    "# Endpoint URL for Nigeria stats\n",
    "api_end_url=\"https://api.smartable.ai/coronavirus/stats/NG\"\n",
    "\n",
    "# Setup Headers for API call\n",
    "headers={\n",
    "    \"Cache-Control\": \"no-cache\",\n",
    "    \"Subscription-Key\": os.getenv(\"SMAI_PRIMARY_KEY\")\n",
    "}\n",
    "\n",
    "# Make API call\n",
    "res= requests.get(api_end_url, headers=headers)\n",
    "# Load JSON response\n",
    "res_json= json.loads(res.content)\n",
    "# Save data to file\n",
    "with open(\"../data/raw/SMARTABLE/NG_data.json\", \"w\") as js_fp:\n",
    "    json.dump(res_json, js_fp, indent=4)\n",
    "\n",
    "\n",
    "# Index the data with dates as primary key\n",
    "daily_stats= []\n",
    "for a_day in res_json[\"stats\"][\"history\"]:\n",
    "    daily_stats.append([\n",
    "        a_day[\"date\"], a_day[\"confirmed\"], \n",
    "        a_day[\"deaths\"], a_day[\"recovered\"]\n",
    "    ])\n",
    "\n",
    "# Create pandas frame from data\n",
    "col_names= {\n",
    "    0: \"date\", 1: \"confirmed\", 2: \"deaths\",\n",
    "    3: \"recovered\"\n",
    "}\n",
    "# New frame\n",
    "pd_frame= pd.DataFrame(daily_stats).rename(columns=col_names)\n",
    "# Show frame\n",
    "pd_frame\n",
    "# Write frame to .csv\n",
    "pd_frame.to_csv(\n",
    "    \"../data/raw/SMARTABLE/daily_NG.csv\", sep=\";\", index=False\n",
    ")\n",
    "\n"
   ]
  },
  {
   "cell_type": "markdown",
   "metadata": {},
   "source": [
    "## Web Scraping\n",
    "- **Data Miner** for Chrome is a nice tool that might come in handy\n"
   ]
  },
  {
   "cell_type": "markdown",
   "metadata": {},
   "source": [
    "### Web Scraping- Robert Koch Institute"
   ]
  },
  {
   "cell_type": "code",
   "execution_count": 5,
   "metadata": {},
   "outputs": [],
   "source": [
    "# Get Robert Koch Institute page\n",
    "page= requests.get(\"https://www.rki.de/DE/Content/InfAZ/N/Neuartiges_Coronavirus/Fallzahlen.html\")"
   ]
  },
  {
   "cell_type": "code",
   "execution_count": 6,
   "metadata": {},
   "outputs": [],
   "source": [
    "# Parse HTML\n",
    "soup=  BeautifulSoup(page.content, 'html.parser')"
   ]
  },
  {
   "cell_type": "code",
   "execution_count": 12,
   "metadata": {},
   "outputs": [],
   "source": [
    "# Find table\n",
    "html_table= soup.find('table')\n",
    "# Find rows in table\n",
    "table_rows= html_table.find_all('tr')"
   ]
  },
  {
   "cell_type": "code",
   "execution_count": 24,
   "metadata": {
    "tags": []
   },
   "outputs": [],
   "source": [
    "# Data List\n",
    "data_list= []\n",
    "\n",
    "# Loop through table rows\n",
    "for idx,row in enumerate(table_rows):\n",
    "    # print(idx)\n",
    "    # print(row)\n",
    "    # print(\"============\")\n",
    "    # Pull out columns from rows\n",
    "    # for col in row.find_all('td'):\n",
    "    #     # print(col)\n",
    "    #     # Get text\n",
    "    #     print(col.get_text(strip=True))\n",
    "    col_list=[col.get_text(strip=True) for col in row.find_all('td')]\n",
    "    data_list.append(col_list)\n",
    "\n"
   ]
  },
  {
   "cell_type": "code",
   "execution_count": 29,
   "metadata": {},
   "outputs": [
    {
     "output_type": "execute_result",
     "data": {
      "text/plain": "                       state   number diff. to prev. day last 7 days    4  \\\n2         Baden-Württem­berg   35.990                +48         185  1,7   \n3                     Bayern   49.086                +63         453  3,5   \n4                     Berlin    8.586                +49         205  5,5   \n5               Branden­burg    3.452                -31          22  0,9   \n6                     Bremen    1.688                 +4          13  1,9   \n7                    Hamburg    5.231                 +1          15  0,8   \n8                     Hessen   11.104                +42         202  3,2   \n9   Meck­lenburg-Vor­pommern      803                 -2           0  0,0   \n10            Nieder­sachsen   13.791                +37         121  1,5   \n11     Nord­rhein-West­falen   44.645               +153         888  5,0   \n12          Rhein­land-Pfalz    7.126                +14          55  1,3   \n13                  Saarland    2.812                 +3           7  0,7   \n14                   Sachsen    5.469                 +3          12  0,3   \n15            Sachsen-Anhalt    1.905                 +7          25  1,1   \n16       Schles­wig-Holstein    3.202                 +2          24  0,8   \n17                 Thüringen    3.288                 +2          21  1,0   \n18                    Gesamt  198.178               +395       2.248  2,7   \n\n   deaths  \n2   1.837  \n3   2.610  \n4     216  \n5     168  \n6      54  \n7     261  \n8     514  \n9      20  \n10    641  \n11  1.701  \n12    236  \n13    174  \n14    225  \n15     61  \n16    154  \n17    182  \n18  9.054  ",
      "text/html": "<div>\n<style scoped>\n    .dataframe tbody tr th:only-of-type {\n        vertical-align: middle;\n    }\n\n    .dataframe tbody tr th {\n        vertical-align: top;\n    }\n\n    .dataframe thead th {\n        text-align: right;\n    }\n</style>\n<table border=\"1\" class=\"dataframe\">\n  <thead>\n    <tr style=\"text-align: right;\">\n      <th></th>\n      <th>state</th>\n      <th>number</th>\n      <th>diff. to prev. day</th>\n      <th>last 7 days</th>\n      <th>4</th>\n      <th>deaths</th>\n    </tr>\n  </thead>\n  <tbody>\n    <tr>\n      <th>2</th>\n      <td>Baden-Württem­berg</td>\n      <td>35.990</td>\n      <td>+48</td>\n      <td>185</td>\n      <td>1,7</td>\n      <td>1.837</td>\n    </tr>\n    <tr>\n      <th>3</th>\n      <td>Bayern</td>\n      <td>49.086</td>\n      <td>+63</td>\n      <td>453</td>\n      <td>3,5</td>\n      <td>2.610</td>\n    </tr>\n    <tr>\n      <th>4</th>\n      <td>Berlin</td>\n      <td>8.586</td>\n      <td>+49</td>\n      <td>205</td>\n      <td>5,5</td>\n      <td>216</td>\n    </tr>\n    <tr>\n      <th>5</th>\n      <td>Branden­burg</td>\n      <td>3.452</td>\n      <td>-31</td>\n      <td>22</td>\n      <td>0,9</td>\n      <td>168</td>\n    </tr>\n    <tr>\n      <th>6</th>\n      <td>Bremen</td>\n      <td>1.688</td>\n      <td>+4</td>\n      <td>13</td>\n      <td>1,9</td>\n      <td>54</td>\n    </tr>\n    <tr>\n      <th>7</th>\n      <td>Hamburg</td>\n      <td>5.231</td>\n      <td>+1</td>\n      <td>15</td>\n      <td>0,8</td>\n      <td>261</td>\n    </tr>\n    <tr>\n      <th>8</th>\n      <td>Hessen</td>\n      <td>11.104</td>\n      <td>+42</td>\n      <td>202</td>\n      <td>3,2</td>\n      <td>514</td>\n    </tr>\n    <tr>\n      <th>9</th>\n      <td>Meck­lenburg-Vor­pommern</td>\n      <td>803</td>\n      <td>-2</td>\n      <td>0</td>\n      <td>0,0</td>\n      <td>20</td>\n    </tr>\n    <tr>\n      <th>10</th>\n      <td>Nieder­sachsen</td>\n      <td>13.791</td>\n      <td>+37</td>\n      <td>121</td>\n      <td>1,5</td>\n      <td>641</td>\n    </tr>\n    <tr>\n      <th>11</th>\n      <td>Nord­rhein-West­falen</td>\n      <td>44.645</td>\n      <td>+153</td>\n      <td>888</td>\n      <td>5,0</td>\n      <td>1.701</td>\n    </tr>\n    <tr>\n      <th>12</th>\n      <td>Rhein­land-Pfalz</td>\n      <td>7.126</td>\n      <td>+14</td>\n      <td>55</td>\n      <td>1,3</td>\n      <td>236</td>\n    </tr>\n    <tr>\n      <th>13</th>\n      <td>Saarland</td>\n      <td>2.812</td>\n      <td>+3</td>\n      <td>7</td>\n      <td>0,7</td>\n      <td>174</td>\n    </tr>\n    <tr>\n      <th>14</th>\n      <td>Sachsen</td>\n      <td>5.469</td>\n      <td>+3</td>\n      <td>12</td>\n      <td>0,3</td>\n      <td>225</td>\n    </tr>\n    <tr>\n      <th>15</th>\n      <td>Sachsen-Anhalt</td>\n      <td>1.905</td>\n      <td>+7</td>\n      <td>25</td>\n      <td>1,1</td>\n      <td>61</td>\n    </tr>\n    <tr>\n      <th>16</th>\n      <td>Schles­wig-Holstein</td>\n      <td>3.202</td>\n      <td>+2</td>\n      <td>24</td>\n      <td>0,8</td>\n      <td>154</td>\n    </tr>\n    <tr>\n      <th>17</th>\n      <td>Thüringen</td>\n      <td>3.288</td>\n      <td>+2</td>\n      <td>21</td>\n      <td>1,0</td>\n      <td>182</td>\n    </tr>\n    <tr>\n      <th>18</th>\n      <td>Gesamt</td>\n      <td>198.178</td>\n      <td>+395</td>\n      <td>2.248</td>\n      <td>2,7</td>\n      <td>9.054</td>\n    </tr>\n  </tbody>\n</table>\n</div>"
     },
     "metadata": {},
     "execution_count": 29
    }
   ],
   "source": [
    "# Display data in Pandas\n",
    "scraped_data= pd.DataFrame(data_list)\n",
    "# Remove empty rows\n",
    "scraped_data= scraped_data.dropna()\n",
    "# Rename column\n",
    "scraped_data= scraped_data.rename(columns={0:\"state\", 1:'number', 2:'diff. to prev. day', 3:'last 7 days', 5:'deaths'})\n",
    "scraped_data"
   ]
  },
  {
   "cell_type": "markdown",
   "metadata": {},
   "source": [
    "### Web Scraping- Nigeria Centre for Disease Control (NCDC)\n"
   ]
  },
  {
   "cell_type": "code",
   "execution_count": 30,
   "metadata": {},
   "outputs": [],
   "source": [
    "# Pull page on COVID-19\n",
    "page= requests.get(\"https://covid19.ncdc.gov.ng/\")"
   ]
  },
  {
   "cell_type": "code",
   "execution_count": 52,
   "metadata": {},
   "outputs": [],
   "source": [
    "# Parse HTML\n",
    "parsed_page= BeautifulSoup(page.content, 'html.parser')\n",
    "# Pull Table\n",
    "html_table= parsed_page.find('table')\n",
    "# Pull table rows\n",
    "table_rows= html_table.find_all('tr')\n",
    "\n",
    "# Table Header\n",
    "table_header= dict()\n",
    "# Table data\n",
    "table_data=[]\n",
    "\n",
    "# Loop through table rows\n",
    "for idx,row in enumerate(table_rows):\n",
    "    # Table headers in first row\n",
    "    if(idx==0):\n",
    "        # Pull column headers\n",
    "        col_headers= row.find_all('th')\n",
    "        col_headers\n",
    "        # Make a dictionary of column headers\n",
    "        table_headers= { idx:col_header.get_text(strip=True) for idx,col_header in enumerate(col_headers) }\n",
    "    \n",
    "    # Table data\n",
    "    # Get row columns\n",
    "    row_cols= row.find_all('td')\n",
    "    # Get data body into list\n",
    "    row_data= [ col.get_text(strip=True) for col in row_cols ]\n",
    "    # Append col to row list\n",
    "    table_data.append(row_data)\n"
   ]
  },
  {
   "cell_type": "code",
   "execution_count": 55,
   "metadata": {},
   "outputs": [
    {
     "output_type": "execute_result",
     "data": {
      "text/plain": "   States Affected No. of Cases (Lab Confirmed) No. of Cases (on admission)  \\\n1            Lagos                       11,827                       9,993   \n2              FCT                        2,365                       1,621   \n3              Oyo                        1,604                         751   \n4              Edo                        1,562                         580   \n5            Delta                        1,337                         852   \n6             Kano                        1,302                         220   \n7           Rivers                        1,294                         407   \n8             Ogun                        1,063                         346   \n9           Kaduna                          907                         294   \n10         Katsina                          646                         182   \n11            Ondo                          606                         462   \n12           Borno                          584                          94   \n13           Gombe                          524                         116   \n14          Bauchi                          519                           8   \n15          Ebonyi                          503                           0   \n16         Plateau                          497                         242   \n17           Enugu                          439                         162   \n18            Abia                          401                         133   \n19             Imo                          359                         290   \n20          Jigawa                          318                           0   \n21           Kwara                          311                         131   \n22         Bayelsa                          299                         141   \n23        Nasarawa                          236                         115   \n24            Osun                          212                         121   \n25          Sokoto                          153                           2   \n26       Akwa Ibom                          134                          60   \n27           Niger                          125                          21   \n28           Benue                          121                          80   \n29         Adamawa                          100                          22   \n30         Anambra                           93                          27   \n31           Kebbi                           86                          16   \n32         Zamfara                           76                           0   \n33            Yobe                           62                           3   \n34           Ekiti                           46                           4   \n35          Taraba                           27                          16   \n36     Cross River                            5                           1   \n37            Kogi                            5                           0   \n\n   No. Discharged No. of Deaths  \n1           1,701           133  \n2             709            35  \n3             834            19  \n4             925            57  \n5             454            31  \n6           1,030            52  \n7             843            44  \n8             695            22  \n9             601            12  \n10            441            23  \n11            124            20  \n12            455            35  \n13            387            21  \n14            498            13  \n15            497             6  \n16            241            14  \n17            263            14  \n18            265             3  \n19             61             8  \n20            308            10  \n21            168            12  \n22            141            17  \n23            113             8  \n24             84             7  \n25            135            16  \n26             71             3  \n27             97             7  \n28             35             6  \n29             71             7  \n30             57             9  \n31             63             7  \n32             71             5  \n33             51             8  \n34             40             2  \n35             11             0  \n36              3             1  \n37              3             2  ",
      "text/html": "<div>\n<style scoped>\n    .dataframe tbody tr th:only-of-type {\n        vertical-align: middle;\n    }\n\n    .dataframe tbody tr th {\n        vertical-align: top;\n    }\n\n    .dataframe thead th {\n        text-align: right;\n    }\n</style>\n<table border=\"1\" class=\"dataframe\">\n  <thead>\n    <tr style=\"text-align: right;\">\n      <th></th>\n      <th>States Affected</th>\n      <th>No. of Cases (Lab Confirmed)</th>\n      <th>No. of Cases (on admission)</th>\n      <th>No. Discharged</th>\n      <th>No. of Deaths</th>\n    </tr>\n  </thead>\n  <tbody>\n    <tr>\n      <th>1</th>\n      <td>Lagos</td>\n      <td>11,827</td>\n      <td>9,993</td>\n      <td>1,701</td>\n      <td>133</td>\n    </tr>\n    <tr>\n      <th>2</th>\n      <td>FCT</td>\n      <td>2,365</td>\n      <td>1,621</td>\n      <td>709</td>\n      <td>35</td>\n    </tr>\n    <tr>\n      <th>3</th>\n      <td>Oyo</td>\n      <td>1,604</td>\n      <td>751</td>\n      <td>834</td>\n      <td>19</td>\n    </tr>\n    <tr>\n      <th>4</th>\n      <td>Edo</td>\n      <td>1,562</td>\n      <td>580</td>\n      <td>925</td>\n      <td>57</td>\n    </tr>\n    <tr>\n      <th>5</th>\n      <td>Delta</td>\n      <td>1,337</td>\n      <td>852</td>\n      <td>454</td>\n      <td>31</td>\n    </tr>\n    <tr>\n      <th>6</th>\n      <td>Kano</td>\n      <td>1,302</td>\n      <td>220</td>\n      <td>1,030</td>\n      <td>52</td>\n    </tr>\n    <tr>\n      <th>7</th>\n      <td>Rivers</td>\n      <td>1,294</td>\n      <td>407</td>\n      <td>843</td>\n      <td>44</td>\n    </tr>\n    <tr>\n      <th>8</th>\n      <td>Ogun</td>\n      <td>1,063</td>\n      <td>346</td>\n      <td>695</td>\n      <td>22</td>\n    </tr>\n    <tr>\n      <th>9</th>\n      <td>Kaduna</td>\n      <td>907</td>\n      <td>294</td>\n      <td>601</td>\n      <td>12</td>\n    </tr>\n    <tr>\n      <th>10</th>\n      <td>Katsina</td>\n      <td>646</td>\n      <td>182</td>\n      <td>441</td>\n      <td>23</td>\n    </tr>\n    <tr>\n      <th>11</th>\n      <td>Ondo</td>\n      <td>606</td>\n      <td>462</td>\n      <td>124</td>\n      <td>20</td>\n    </tr>\n    <tr>\n      <th>12</th>\n      <td>Borno</td>\n      <td>584</td>\n      <td>94</td>\n      <td>455</td>\n      <td>35</td>\n    </tr>\n    <tr>\n      <th>13</th>\n      <td>Gombe</td>\n      <td>524</td>\n      <td>116</td>\n      <td>387</td>\n      <td>21</td>\n    </tr>\n    <tr>\n      <th>14</th>\n      <td>Bauchi</td>\n      <td>519</td>\n      <td>8</td>\n      <td>498</td>\n      <td>13</td>\n    </tr>\n    <tr>\n      <th>15</th>\n      <td>Ebonyi</td>\n      <td>503</td>\n      <td>0</td>\n      <td>497</td>\n      <td>6</td>\n    </tr>\n    <tr>\n      <th>16</th>\n      <td>Plateau</td>\n      <td>497</td>\n      <td>242</td>\n      <td>241</td>\n      <td>14</td>\n    </tr>\n    <tr>\n      <th>17</th>\n      <td>Enugu</td>\n      <td>439</td>\n      <td>162</td>\n      <td>263</td>\n      <td>14</td>\n    </tr>\n    <tr>\n      <th>18</th>\n      <td>Abia</td>\n      <td>401</td>\n      <td>133</td>\n      <td>265</td>\n      <td>3</td>\n    </tr>\n    <tr>\n      <th>19</th>\n      <td>Imo</td>\n      <td>359</td>\n      <td>290</td>\n      <td>61</td>\n      <td>8</td>\n    </tr>\n    <tr>\n      <th>20</th>\n      <td>Jigawa</td>\n      <td>318</td>\n      <td>0</td>\n      <td>308</td>\n      <td>10</td>\n    </tr>\n    <tr>\n      <th>21</th>\n      <td>Kwara</td>\n      <td>311</td>\n      <td>131</td>\n      <td>168</td>\n      <td>12</td>\n    </tr>\n    <tr>\n      <th>22</th>\n      <td>Bayelsa</td>\n      <td>299</td>\n      <td>141</td>\n      <td>141</td>\n      <td>17</td>\n    </tr>\n    <tr>\n      <th>23</th>\n      <td>Nasarawa</td>\n      <td>236</td>\n      <td>115</td>\n      <td>113</td>\n      <td>8</td>\n    </tr>\n    <tr>\n      <th>24</th>\n      <td>Osun</td>\n      <td>212</td>\n      <td>121</td>\n      <td>84</td>\n      <td>7</td>\n    </tr>\n    <tr>\n      <th>25</th>\n      <td>Sokoto</td>\n      <td>153</td>\n      <td>2</td>\n      <td>135</td>\n      <td>16</td>\n    </tr>\n    <tr>\n      <th>26</th>\n      <td>Akwa Ibom</td>\n      <td>134</td>\n      <td>60</td>\n      <td>71</td>\n      <td>3</td>\n    </tr>\n    <tr>\n      <th>27</th>\n      <td>Niger</td>\n      <td>125</td>\n      <td>21</td>\n      <td>97</td>\n      <td>7</td>\n    </tr>\n    <tr>\n      <th>28</th>\n      <td>Benue</td>\n      <td>121</td>\n      <td>80</td>\n      <td>35</td>\n      <td>6</td>\n    </tr>\n    <tr>\n      <th>29</th>\n      <td>Adamawa</td>\n      <td>100</td>\n      <td>22</td>\n      <td>71</td>\n      <td>7</td>\n    </tr>\n    <tr>\n      <th>30</th>\n      <td>Anambra</td>\n      <td>93</td>\n      <td>27</td>\n      <td>57</td>\n      <td>9</td>\n    </tr>\n    <tr>\n      <th>31</th>\n      <td>Kebbi</td>\n      <td>86</td>\n      <td>16</td>\n      <td>63</td>\n      <td>7</td>\n    </tr>\n    <tr>\n      <th>32</th>\n      <td>Zamfara</td>\n      <td>76</td>\n      <td>0</td>\n      <td>71</td>\n      <td>5</td>\n    </tr>\n    <tr>\n      <th>33</th>\n      <td>Yobe</td>\n      <td>62</td>\n      <td>3</td>\n      <td>51</td>\n      <td>8</td>\n    </tr>\n    <tr>\n      <th>34</th>\n      <td>Ekiti</td>\n      <td>46</td>\n      <td>4</td>\n      <td>40</td>\n      <td>2</td>\n    </tr>\n    <tr>\n      <th>35</th>\n      <td>Taraba</td>\n      <td>27</td>\n      <td>16</td>\n      <td>11</td>\n      <td>0</td>\n    </tr>\n    <tr>\n      <th>36</th>\n      <td>Cross River</td>\n      <td>5</td>\n      <td>1</td>\n      <td>3</td>\n      <td>1</td>\n    </tr>\n    <tr>\n      <th>37</th>\n      <td>Kogi</td>\n      <td>5</td>\n      <td>0</td>\n      <td>3</td>\n      <td>2</td>\n    </tr>\n  </tbody>\n</table>\n</div>"
     },
     "metadata": {},
     "execution_count": 55
    }
   ],
   "source": [
    "# Make data into Pandas Frame\n",
    "pd_table= pd.DataFrame(table_data)\n",
    "# Remove empty rows\n",
    "pd_table= pd_table.dropna()\n",
    "# Insert column names\n",
    "pd_table= pd_table.rename(columns=table_headers)\n",
    "# Show Frame\n",
    "pd_table"
   ]
  },
  {
   "cell_type": "code",
   "execution_count": null,
   "metadata": {},
   "outputs": [],
   "source": []
  }
 ],
 "metadata": {
  "language_info": {
   "codemirror_mode": {
    "name": "ipython",
    "version": 3
   },
   "file_extension": ".py",
   "mimetype": "text/x-python",
   "name": "python",
   "nbconvert_exporter": "python",
   "pygments_lexer": "ipython3",
   "version": "3.8.2-final"
  },
  "orig_nbformat": 2,
  "kernelspec": {
   "name": "python3",
   "display_name": "Python 3"
  }
 },
 "nbformat": 4,
 "nbformat_minor": 2
}