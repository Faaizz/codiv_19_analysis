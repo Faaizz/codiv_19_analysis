{
 "cells": [
  {
   "cell_type": "code",
   "execution_count": 1,
   "metadata": {},
   "outputs": [],
   "source": [
    "# Imports\n",
    "import os, subprocess, json\n",
    "\n",
    "# Environmental Variables\n",
    "from dotenv import load_dotenv\n",
    "\n",
    "import pandas as pd\n",
    "\n",
    "# HTTP Client\n",
    "import requests\n",
    "# For parsing and sifting through HTML\n",
    "from bs4 import BeautifulSoup\n",
    "\n"
   ]
  },
  {
   "cell_type": "code",
   "execution_count": 2,
   "metadata": {
    "tags": []
   },
   "outputs": [],
   "source": [
    "# Load environmental variables specified in .env\n",
    "load_dotenv()\n",
    "\n",
    "# Set max rows for Pandas\n",
    "pd.set_option('display.max_rows', 500)"
   ]
  },
  {
   "cell_type": "markdown",
   "metadata": {},
   "source": [
    "## CRISP-DM\n",
    "![CRISP-DM](../reports/figures/CRISP_DM.png)"
   ]
  },
  {
   "cell_type": "markdown",
   "metadata": {},
   "source": [
    "# Data Understanding"
   ]
  },
  {
   "cell_type": "markdown",
   "metadata": {},
   "source": [
    "## Data Sources:\n",
    "**Wordlwide:**\n",
    "- [John Hopkings](https://github.com/CSSEGISandData/COVID-19.git) (GITHUB)\n",
    "- [REST API services to retrieve Data](https://npgeo-corona-npgeo-de.hub.arcgis.com/)\n",
    "\n",
    "**Nigeria:**\n",
    "- [Nigeria Center for Disease Contrl (NCDC)](https://covid19.ncdc.gov.ng/)\n",
    "\n",
    "**Germany:**\n",
    "- [Robert Koch Institute](https://www.rki.de/DE/Content/InfAZ/N/Neuartiges_Coronavirus/Fallzahlen.html) (webscraping)"
   ]
  },
  {
   "cell_type": "markdown",
   "metadata": {},
   "source": [
    "## GITHUB- Johns Hopkings"
   ]
  },
  {
   "cell_type": "code",
   "execution_count": 3,
   "metadata": {
    "tags": []
   },
   "outputs": [
    {
     "output_type": "stream",
     "name": "stdout",
     "text": "b'From https://github.com/CSSEGISandData/COVID-19\\n   e77ccd3a..dc7740d5  web-data   -> origin/web-data\\nAlready up to date.\\n'\n"
    }
   ],
   "source": [
    "# Create directory for John Hopkins Dataset if it doesn't already exist\n",
    "if(not os.path.exists(\"../data/raw/JH_dataset\")):\n",
    "    # Create directory\n",
    "    os.mkdir(\"../data/raw/JH_dataset\")\n",
    "\n",
    "# Check if Dataset doesn't already exist in filesystem\n",
    "if(not os.path.exists(\"../data/raw/JH_dataset/COVID-19\")):\n",
    "    # Command to clone dataset\n",
    "    cmd=  \"git clone https://github.com/CSSEGISandData/COVID-19.git\"\n",
    "    cmd_wd= \"../data/raw/JH_dataset\"\n",
    "\n",
    "# Otherwise if Dataset repo has already been cloned, peform pull operation\n",
    "else:\n",
    "    cmd= \"git pull\"\n",
    "    cmd_wd= \"../data/raw/JH_dataset/COVID-19\"\n",
    "\n",
    "\n",
    "# Git process\n",
    "git_proc= subprocess.Popen(\n",
    "    cmd,\n",
    "    cwd=cmd_wd, shell=True, \n",
    "    stdout= subprocess.PIPE, stderr= subprocess.STDOUT\n",
    ")\n",
    "\n",
    "# Communicate with child process and set timeout\n",
    "# Timeout\n",
    "# Give a maximum of 10 mins because cloning/pulling might take a while\n",
    "proc_timeout= 600\n",
    "try:\n",
    "    git_proc_out= git_proc.communicate(timeout=proc_timeout)[0]\n",
    "    print(str(git_proc_out))\n",
    "except TimeoutError:\n",
    "    print(\"Git operation on Johns Hopkins Dataset from GITHUB failed...\\n\")\n",
    "\n"
   ]
  },
  {
   "cell_type": "code",
   "execution_count": 4,
   "metadata": {},
   "outputs": [],
   "source": [
    "# Data path\n",
    "data_path= \"../data/raw/JH_dataset/COVID-19/csse_covid_19_data/csse_covid_19_time_series/time_series_covid19_confirmed_global.csv\"\n",
    "# Raw data\n",
    "pd_raw= pd.read_csv(data_path)"
   ]
  },
  {
   "cell_type": "code",
   "execution_count": 5,
   "metadata": {},
   "outputs": [
    {
     "output_type": "execute_result",
     "data": {
      "text/plain": "  Province/State Country/Region       Lat       Long  1/22/20  1/23/20  \\\n0            NaN    Afghanistan  33.93911  67.709953        0        0   \n1            NaN        Albania  41.15330  20.168300        0        0   \n2            NaN        Algeria  28.03390   1.659600        0        0   \n3            NaN        Andorra  42.50630   1.521800        0        0   \n4            NaN         Angola -11.20270  17.873900        0        0   \n\n   1/24/20  1/25/20  1/26/20  1/27/20  ...  8/5/20  8/6/20  8/7/20  8/8/20  \\\n0        0        0        0        0  ...   36829   36896   37015   37054   \n1        0        0        0        0  ...    5889    6016    6151    6275   \n2        0        0        0        0  ...   33055   33626   34155   34693   \n3        0        0        0        0  ...     939     944     955     955   \n4        0        0        0        0  ...    1395    1483    1538    1572   \n\n   8/9/20  8/10/20  8/11/20  8/12/20  8/13/20  8/14/20  \n0   37054    37162    37269    37345    37424    37431  \n1    6411     6536     6676     6817     6971     7117  \n2   35160    35712    36204    36699    37187    37664  \n3     955      963      963      977      981      989  \n4    1672     1679     1735     1762     1815     1852  \n\n[5 rows x 210 columns]",
      "text/html": "<div>\n<style scoped>\n    .dataframe tbody tr th:only-of-type {\n        vertical-align: middle;\n    }\n\n    .dataframe tbody tr th {\n        vertical-align: top;\n    }\n\n    .dataframe thead th {\n        text-align: right;\n    }\n</style>\n<table border=\"1\" class=\"dataframe\">\n  <thead>\n    <tr style=\"text-align: right;\">\n      <th></th>\n      <th>Province/State</th>\n      <th>Country/Region</th>\n      <th>Lat</th>\n      <th>Long</th>\n      <th>1/22/20</th>\n      <th>1/23/20</th>\n      <th>1/24/20</th>\n      <th>1/25/20</th>\n      <th>1/26/20</th>\n      <th>1/27/20</th>\n      <th>...</th>\n      <th>8/5/20</th>\n      <th>8/6/20</th>\n      <th>8/7/20</th>\n      <th>8/8/20</th>\n      <th>8/9/20</th>\n      <th>8/10/20</th>\n      <th>8/11/20</th>\n      <th>8/12/20</th>\n      <th>8/13/20</th>\n      <th>8/14/20</th>\n    </tr>\n  </thead>\n  <tbody>\n    <tr>\n      <th>0</th>\n      <td>NaN</td>\n      <td>Afghanistan</td>\n      <td>33.93911</td>\n      <td>67.709953</td>\n      <td>0</td>\n      <td>0</td>\n      <td>0</td>\n      <td>0</td>\n      <td>0</td>\n      <td>0</td>\n      <td>...</td>\n      <td>36829</td>\n      <td>36896</td>\n      <td>37015</td>\n      <td>37054</td>\n      <td>37054</td>\n      <td>37162</td>\n      <td>37269</td>\n      <td>37345</td>\n      <td>37424</td>\n      <td>37431</td>\n    </tr>\n    <tr>\n      <th>1</th>\n      <td>NaN</td>\n      <td>Albania</td>\n      <td>41.15330</td>\n      <td>20.168300</td>\n      <td>0</td>\n      <td>0</td>\n      <td>0</td>\n      <td>0</td>\n      <td>0</td>\n      <td>0</td>\n      <td>...</td>\n      <td>5889</td>\n      <td>6016</td>\n      <td>6151</td>\n      <td>6275</td>\n      <td>6411</td>\n      <td>6536</td>\n      <td>6676</td>\n      <td>6817</td>\n      <td>6971</td>\n      <td>7117</td>\n    </tr>\n    <tr>\n      <th>2</th>\n      <td>NaN</td>\n      <td>Algeria</td>\n      <td>28.03390</td>\n      <td>1.659600</td>\n      <td>0</td>\n      <td>0</td>\n      <td>0</td>\n      <td>0</td>\n      <td>0</td>\n      <td>0</td>\n      <td>...</td>\n      <td>33055</td>\n      <td>33626</td>\n      <td>34155</td>\n      <td>34693</td>\n      <td>35160</td>\n      <td>35712</td>\n      <td>36204</td>\n      <td>36699</td>\n      <td>37187</td>\n      <td>37664</td>\n    </tr>\n    <tr>\n      <th>3</th>\n      <td>NaN</td>\n      <td>Andorra</td>\n      <td>42.50630</td>\n      <td>1.521800</td>\n      <td>0</td>\n      <td>0</td>\n      <td>0</td>\n      <td>0</td>\n      <td>0</td>\n      <td>0</td>\n      <td>...</td>\n      <td>939</td>\n      <td>944</td>\n      <td>955</td>\n      <td>955</td>\n      <td>955</td>\n      <td>963</td>\n      <td>963</td>\n      <td>977</td>\n      <td>981</td>\n      <td>989</td>\n    </tr>\n    <tr>\n      <th>4</th>\n      <td>NaN</td>\n      <td>Angola</td>\n      <td>-11.20270</td>\n      <td>17.873900</td>\n      <td>0</td>\n      <td>0</td>\n      <td>0</td>\n      <td>0</td>\n      <td>0</td>\n      <td>0</td>\n      <td>...</td>\n      <td>1395</td>\n      <td>1483</td>\n      <td>1538</td>\n      <td>1572</td>\n      <td>1672</td>\n      <td>1679</td>\n      <td>1735</td>\n      <td>1762</td>\n      <td>1815</td>\n      <td>1852</td>\n    </tr>\n  </tbody>\n</table>\n<p>5 rows × 210 columns</p>\n</div>"
     },
     "metadata": {},
     "execution_count": 5
    }
   ],
   "source": [
    "pd_raw.head()"
   ]
  },
  {
   "cell_type": "markdown",
   "metadata": {},
   "source": [
    "## REST API- [Smartable](smartable.ai)"
   ]
  },
  {
   "cell_type": "code",
   "execution_count": 6,
   "metadata": {
    "tags": []
   },
   "outputs": [],
   "source": [
    "# Create directory for Smartable.ai Dataset if it doesn't already exist\n",
    "if(not os.path.exists(\"../data/raw/SMARTABLE\")):\n",
    "    # Create directory\n",
    "    os.mkdir(\"../data/raw/SMARTABLE\")\n",
    "\n",
    "# Endpoint URL for Nigeria stats\n",
    "api_end_url=\"https://api.smartable.ai/coronavirus/stats/NG\"\n",
    "\n",
    "# Setup Headers for API call\n",
    "headers={\n",
    "    \"Cache-Control\": \"no-cache\",\n",
    "    \"Subscription-Key\": os.getenv(\"SMAI_PRIMARY_KEY\")\n",
    "}\n",
    "\n",
    "# Make API call\n",
    "res= requests.get(api_end_url, headers=headers)\n",
    "# Load JSON response\n",
    "res_json= json.loads(res.content)\n",
    "# Save data to file\n",
    "with open(\"../data/raw/SMARTABLE/NG_data.json\", \"w\") as js_fp:\n",
    "    json.dump(res_json, js_fp, indent=4)\n",
    "\n",
    "\n",
    "# Index the data with dates as primary key\n",
    "daily_stats= []\n",
    "for a_day in res_json[\"stats\"][\"history\"]:\n",
    "    daily_stats.append([\n",
    "        a_day[\"date\"], a_day[\"confirmed\"], \n",
    "        a_day[\"deaths\"], a_day[\"recovered\"]\n",
    "    ])\n",
    "\n",
    "# Create pandas frame from list\n",
    "col_names= {\n",
    "    0: \"date\", 1: \"confirmed\", 2: \"deaths\",\n",
    "    3: \"recovered\"\n",
    "}\n",
    "# New frame\n",
    "pd_frame= pd.DataFrame(daily_stats).rename(columns=col_names)\n"
   ]
  },
  {
   "cell_type": "code",
   "execution_count": 7,
   "metadata": {},
   "outputs": [
    {
     "output_type": "execute_result",
     "data": {
      "text/plain": "                    date  confirmed  deaths  recovered\n202  2020-08-11T00:00:00      47290     956      33609\n203  2020-08-12T00:00:00      47703     961      33959\n204  2020-08-13T00:00:00      48116     966      34309\n205  2020-08-14T00:00:00      48445     973      35998\n206  2020-08-15T00:00:00      48445     973      35998",
      "text/html": "<div>\n<style scoped>\n    .dataframe tbody tr th:only-of-type {\n        vertical-align: middle;\n    }\n\n    .dataframe tbody tr th {\n        vertical-align: top;\n    }\n\n    .dataframe thead th {\n        text-align: right;\n    }\n</style>\n<table border=\"1\" class=\"dataframe\">\n  <thead>\n    <tr style=\"text-align: right;\">\n      <th></th>\n      <th>date</th>\n      <th>confirmed</th>\n      <th>deaths</th>\n      <th>recovered</th>\n    </tr>\n  </thead>\n  <tbody>\n    <tr>\n      <th>202</th>\n      <td>2020-08-11T00:00:00</td>\n      <td>47290</td>\n      <td>956</td>\n      <td>33609</td>\n    </tr>\n    <tr>\n      <th>203</th>\n      <td>2020-08-12T00:00:00</td>\n      <td>47703</td>\n      <td>961</td>\n      <td>33959</td>\n    </tr>\n    <tr>\n      <th>204</th>\n      <td>2020-08-13T00:00:00</td>\n      <td>48116</td>\n      <td>966</td>\n      <td>34309</td>\n    </tr>\n    <tr>\n      <th>205</th>\n      <td>2020-08-14T00:00:00</td>\n      <td>48445</td>\n      <td>973</td>\n      <td>35998</td>\n    </tr>\n    <tr>\n      <th>206</th>\n      <td>2020-08-15T00:00:00</td>\n      <td>48445</td>\n      <td>973</td>\n      <td>35998</td>\n    </tr>\n  </tbody>\n</table>\n</div>"
     },
     "metadata": {},
     "execution_count": 7
    }
   ],
   "source": [
    "# Show frame\n",
    "pd_frame.tail()\n"
   ]
  },
  {
   "cell_type": "code",
   "execution_count": 8,
   "metadata": {},
   "outputs": [],
   "source": [
    "# Write frame to .csv\n",
    "pd_frame.to_csv(\n",
    "    \"../data/processed/SMARTABLE_daily_NG.csv\", sep=\";\", index=False\n",
    ")"
   ]
  },
  {
   "cell_type": "markdown",
   "metadata": {},
   "source": [
    "## Web Scraping\n",
    "- **Data Miner** Chrome extension is a nice tool that might come in handy\n"
   ]
  },
  {
   "cell_type": "markdown",
   "metadata": {},
   "source": [
    "### Web Scraping- Robert Koch Institute"
   ]
  },
  {
   "cell_type": "code",
   "execution_count": 9,
   "metadata": {},
   "outputs": [],
   "source": [
    "# Get Robert Koch Institute page\n",
    "page= requests.get(\"https://www.rki.de/DE/Content/InfAZ/N/Neuartiges_Coronavirus/Fallzahlen.html\")"
   ]
  },
  {
   "cell_type": "code",
   "execution_count": 10,
   "metadata": {},
   "outputs": [],
   "source": [
    "# Parse HTML\n",
    "soup=  BeautifulSoup(page.content, 'html.parser')"
   ]
  },
  {
   "cell_type": "code",
   "execution_count": 11,
   "metadata": {},
   "outputs": [],
   "source": [
    "# Find table\n",
    "html_table= soup.find('table')\n",
    "# Find rows in table\n",
    "table_rows= html_table.find_all('tr')"
   ]
  },
  {
   "cell_type": "code",
   "execution_count": 12,
   "metadata": {
    "tags": []
   },
   "outputs": [],
   "source": [
    "# Data List\n",
    "data_list= []\n",
    "\n",
    "# Loop through table rows\n",
    "for idx,row in enumerate(table_rows):\n",
    "    col_list=[col.get_text(strip=True) for col in row.find_all('td')]\n",
    "    data_list.append(col_list)\n",
    "\n"
   ]
  },
  {
   "cell_type": "code",
   "execution_count": 13,
   "metadata": {},
   "outputs": [],
   "source": [
    "# Display data in Pandas\n",
    "scraped_data= pd.DataFrame(data_list)\n",
    "# Remove empty rows\n",
    "scraped_data= scraped_data.dropna()\n",
    "# Rename column\n",
    "scraped_data= scraped_data.rename(columns={0:\"state\", 1:'number', 2:'diff. to prev. day', 3:'last 7 days', 5:'deaths'})"
   ]
  },
  {
   "cell_type": "code",
   "execution_count": 14,
   "metadata": {},
   "outputs": [
    {
     "output_type": "execute_result",
     "data": {
      "text/plain": "                  state   number diff. to prev. day last 7 days    4 deaths\n14              Sachsen    5.719                +14          75  1,8    225\n15       Sachsen-Anhalt    2.114                +15          55  2,5     64\n16  Schles­wig-Holstein    3.768                +24         187  6,5    158\n17            Thüringen    3.492                +10          67  3,1    186\n18               Gesamt  222.828             +1.415       6.914  8,3  9.231",
      "text/html": "<div>\n<style scoped>\n    .dataframe tbody tr th:only-of-type {\n        vertical-align: middle;\n    }\n\n    .dataframe tbody tr th {\n        vertical-align: top;\n    }\n\n    .dataframe thead th {\n        text-align: right;\n    }\n</style>\n<table border=\"1\" class=\"dataframe\">\n  <thead>\n    <tr style=\"text-align: right;\">\n      <th></th>\n      <th>state</th>\n      <th>number</th>\n      <th>diff. to prev. day</th>\n      <th>last 7 days</th>\n      <th>4</th>\n      <th>deaths</th>\n    </tr>\n  </thead>\n  <tbody>\n    <tr>\n      <th>14</th>\n      <td>Sachsen</td>\n      <td>5.719</td>\n      <td>+14</td>\n      <td>75</td>\n      <td>1,8</td>\n      <td>225</td>\n    </tr>\n    <tr>\n      <th>15</th>\n      <td>Sachsen-Anhalt</td>\n      <td>2.114</td>\n      <td>+15</td>\n      <td>55</td>\n      <td>2,5</td>\n      <td>64</td>\n    </tr>\n    <tr>\n      <th>16</th>\n      <td>Schles­wig-Holstein</td>\n      <td>3.768</td>\n      <td>+24</td>\n      <td>187</td>\n      <td>6,5</td>\n      <td>158</td>\n    </tr>\n    <tr>\n      <th>17</th>\n      <td>Thüringen</td>\n      <td>3.492</td>\n      <td>+10</td>\n      <td>67</td>\n      <td>3,1</td>\n      <td>186</td>\n    </tr>\n    <tr>\n      <th>18</th>\n      <td>Gesamt</td>\n      <td>222.828</td>\n      <td>+1.415</td>\n      <td>6.914</td>\n      <td>8,3</td>\n      <td>9.231</td>\n    </tr>\n  </tbody>\n</table>\n</div>"
     },
     "metadata": {},
     "execution_count": 14
    }
   ],
   "source": [
    "# Show frame\n",
    "scraped_data.tail()"
   ]
  },
  {
   "cell_type": "markdown",
   "metadata": {},
   "source": [
    "### Web Scraping- Nigeria Centre for Disease Control (NCDC)\n"
   ]
  },
  {
   "cell_type": "code",
   "execution_count": 15,
   "metadata": {},
   "outputs": [],
   "source": [
    "# Pull page on COVID-19\n",
    "page= requests.get(\"https://covid19.ncdc.gov.ng/\")"
   ]
  },
  {
   "cell_type": "code",
   "execution_count": 16,
   "metadata": {},
   "outputs": [],
   "source": [
    "# Parse HTML\n",
    "parsed_page= BeautifulSoup(page.content, 'html.parser')\n",
    "# Pull Table\n",
    "html_table= parsed_page.find('table')\n",
    "# Pull table rows\n",
    "table_rows= html_table.find_all('tr')\n",
    "\n",
    "# Table Header\n",
    "table_header= dict()\n",
    "# Table data\n",
    "table_data=[]\n",
    "\n",
    "# Loop through table rows\n",
    "for idx,row in enumerate(table_rows):\n",
    "    # Table headers in first row\n",
    "    if(idx==0):\n",
    "        # Pull column headers\n",
    "        col_headers= row.find_all('th')\n",
    "        # Make a dictionary of column headers\n",
    "        table_headers= { idx:col_header.get_text(strip=True) for idx,col_header in enumerate(col_headers) }\n",
    "    \n",
    "    # Table data\n",
    "    # Get row columns\n",
    "    row_cols= row.find_all('td')\n",
    "    # Get data body into list\n",
    "    row_data= [ col.get_text(strip=True) for col in row_cols ]\n",
    "    # Append col to row list\n",
    "    table_data.append(row_data)\n"
   ]
  },
  {
   "cell_type": "code",
   "execution_count": 17,
   "metadata": {},
   "outputs": [],
   "source": [
    "# Make data into Pandas Frame\n",
    "pd_table= pd.DataFrame(table_data)\n",
    "# Remove empty rows\n",
    "pd_table= pd_table.dropna()\n",
    "# Insert column names\n",
    "pd_table= pd_table.rename(columns=table_headers)"
   ]
  },
  {
   "cell_type": "code",
   "execution_count": 18,
   "metadata": {},
   "outputs": [
    {
     "output_type": "execute_result",
     "data": {
      "text/plain": "   States Affected No. of Cases (Lab Confirmed) No. of Cases (on admission)  \\\n33          Taraba                           78                          19   \n34         Zamfara                           77                           1   \n35     Cross River                           73                          23   \n36            Yobe                           67                           2   \n37            Kogi                            5                           0   \n\n   No. Discharged No. of Deaths  \n33             55             4  \n34             71             5  \n35             42             8  \n36             57             8  \n37              3             2  ",
      "text/html": "<div>\n<style scoped>\n    .dataframe tbody tr th:only-of-type {\n        vertical-align: middle;\n    }\n\n    .dataframe tbody tr th {\n        vertical-align: top;\n    }\n\n    .dataframe thead th {\n        text-align: right;\n    }\n</style>\n<table border=\"1\" class=\"dataframe\">\n  <thead>\n    <tr style=\"text-align: right;\">\n      <th></th>\n      <th>States Affected</th>\n      <th>No. of Cases (Lab Confirmed)</th>\n      <th>No. of Cases (on admission)</th>\n      <th>No. Discharged</th>\n      <th>No. of Deaths</th>\n    </tr>\n  </thead>\n  <tbody>\n    <tr>\n      <th>33</th>\n      <td>Taraba</td>\n      <td>78</td>\n      <td>19</td>\n      <td>55</td>\n      <td>4</td>\n    </tr>\n    <tr>\n      <th>34</th>\n      <td>Zamfara</td>\n      <td>77</td>\n      <td>1</td>\n      <td>71</td>\n      <td>5</td>\n    </tr>\n    <tr>\n      <th>35</th>\n      <td>Cross River</td>\n      <td>73</td>\n      <td>23</td>\n      <td>42</td>\n      <td>8</td>\n    </tr>\n    <tr>\n      <th>36</th>\n      <td>Yobe</td>\n      <td>67</td>\n      <td>2</td>\n      <td>57</td>\n      <td>8</td>\n    </tr>\n    <tr>\n      <th>37</th>\n      <td>Kogi</td>\n      <td>5</td>\n      <td>0</td>\n      <td>3</td>\n      <td>2</td>\n    </tr>\n  </tbody>\n</table>\n</div>"
     },
     "metadata": {},
     "execution_count": 18
    }
   ],
   "source": [
    "# Show frame\n",
    "pd_table.tail()"
   ]
  },
  {
   "cell_type": "code",
   "execution_count": 22,
   "metadata": {},
   "outputs": [
    {
     "output_type": "error",
     "ename": "KeyError",
     "evalue": "\"['No. of Cases (on admission)'] not found in axis\"",
     "traceback": [
      "\u001b[0;31m---------------------------------------------------------------------------\u001b[0m",
      "\u001b[0;31mKeyError\u001b[0m                                  Traceback (most recent call last)",
      "\u001b[0;32m<ipython-input-22-fb340f53d29f>\u001b[0m in \u001b[0;36m<module>\u001b[0;34m\u001b[0m\n\u001b[1;32m      1\u001b[0m \u001b[0;31m# Drop column \"No. of Cases (on admission)\"\u001b[0m\u001b[0;34m\u001b[0m\u001b[0;34m\u001b[0m\u001b[0;34m\u001b[0m\u001b[0m\n\u001b[0;32m----> 2\u001b[0;31m \u001b[0mpd_table\u001b[0m\u001b[0;34m=\u001b[0m \u001b[0mpd_table\u001b[0m\u001b[0;34m.\u001b[0m\u001b[0mdrop\u001b[0m\u001b[0;34m(\u001b[0m\u001b[0;34m[\u001b[0m\u001b[0;34m\"No. of Cases (on admission)\"\u001b[0m\u001b[0;34m]\u001b[0m\u001b[0;34m,\u001b[0m \u001b[0maxis\u001b[0m\u001b[0;34m=\u001b[0m\u001b[0;36m1\u001b[0m\u001b[0;34m)\u001b[0m\u001b[0;34m\u001b[0m\u001b[0;34m\u001b[0m\u001b[0m\n\u001b[0m\u001b[1;32m      3\u001b[0m \u001b[0;34m\u001b[0m\u001b[0m\n\u001b[1;32m      4\u001b[0m \u001b[0;31m# Rename \"No. of Cases (Lab Confirmed)\"\u001b[0m\u001b[0;34m\u001b[0m\u001b[0;34m\u001b[0m\u001b[0;34m\u001b[0m\u001b[0m\n\u001b[1;32m      5\u001b[0m pd_table= pd_table.rename(\n",
      "\u001b[0;32m~/anaconda3/envs/EDS2020/lib/python3.7/site-packages/pandas/core/frame.py\u001b[0m in \u001b[0;36mdrop\u001b[0;34m(self, labels, axis, index, columns, level, inplace, errors)\u001b[0m\n\u001b[1;32m   4162\u001b[0m             \u001b[0mlevel\u001b[0m\u001b[0;34m=\u001b[0m\u001b[0mlevel\u001b[0m\u001b[0;34m,\u001b[0m\u001b[0;34m\u001b[0m\u001b[0;34m\u001b[0m\u001b[0m\n\u001b[1;32m   4163\u001b[0m             \u001b[0minplace\u001b[0m\u001b[0;34m=\u001b[0m\u001b[0minplace\u001b[0m\u001b[0;34m,\u001b[0m\u001b[0;34m\u001b[0m\u001b[0;34m\u001b[0m\u001b[0m\n\u001b[0;32m-> 4164\u001b[0;31m             \u001b[0merrors\u001b[0m\u001b[0;34m=\u001b[0m\u001b[0merrors\u001b[0m\u001b[0;34m,\u001b[0m\u001b[0;34m\u001b[0m\u001b[0;34m\u001b[0m\u001b[0m\n\u001b[0m\u001b[1;32m   4165\u001b[0m         )\n\u001b[1;32m   4166\u001b[0m \u001b[0;34m\u001b[0m\u001b[0m\n",
      "\u001b[0;32m~/anaconda3/envs/EDS2020/lib/python3.7/site-packages/pandas/core/generic.py\u001b[0m in \u001b[0;36mdrop\u001b[0;34m(self, labels, axis, index, columns, level, inplace, errors)\u001b[0m\n\u001b[1;32m   3876\u001b[0m         \u001b[0;32mfor\u001b[0m \u001b[0maxis\u001b[0m\u001b[0;34m,\u001b[0m \u001b[0mlabels\u001b[0m \u001b[0;32min\u001b[0m \u001b[0maxes\u001b[0m\u001b[0;34m.\u001b[0m\u001b[0mitems\u001b[0m\u001b[0;34m(\u001b[0m\u001b[0;34m)\u001b[0m\u001b[0;34m:\u001b[0m\u001b[0;34m\u001b[0m\u001b[0;34m\u001b[0m\u001b[0m\n\u001b[1;32m   3877\u001b[0m             \u001b[0;32mif\u001b[0m \u001b[0mlabels\u001b[0m \u001b[0;32mis\u001b[0m \u001b[0;32mnot\u001b[0m \u001b[0;32mNone\u001b[0m\u001b[0;34m:\u001b[0m\u001b[0;34m\u001b[0m\u001b[0;34m\u001b[0m\u001b[0m\n\u001b[0;32m-> 3878\u001b[0;31m                 \u001b[0mobj\u001b[0m \u001b[0;34m=\u001b[0m \u001b[0mobj\u001b[0m\u001b[0;34m.\u001b[0m\u001b[0m_drop_axis\u001b[0m\u001b[0;34m(\u001b[0m\u001b[0mlabels\u001b[0m\u001b[0;34m,\u001b[0m \u001b[0maxis\u001b[0m\u001b[0;34m,\u001b[0m \u001b[0mlevel\u001b[0m\u001b[0;34m=\u001b[0m\u001b[0mlevel\u001b[0m\u001b[0;34m,\u001b[0m \u001b[0merrors\u001b[0m\u001b[0;34m=\u001b[0m\u001b[0merrors\u001b[0m\u001b[0;34m)\u001b[0m\u001b[0;34m\u001b[0m\u001b[0;34m\u001b[0m\u001b[0m\n\u001b[0m\u001b[1;32m   3879\u001b[0m \u001b[0;34m\u001b[0m\u001b[0m\n\u001b[1;32m   3880\u001b[0m         \u001b[0;32mif\u001b[0m \u001b[0minplace\u001b[0m\u001b[0;34m:\u001b[0m\u001b[0;34m\u001b[0m\u001b[0;34m\u001b[0m\u001b[0m\n",
      "\u001b[0;32m~/anaconda3/envs/EDS2020/lib/python3.7/site-packages/pandas/core/generic.py\u001b[0m in \u001b[0;36m_drop_axis\u001b[0;34m(self, labels, axis, level, errors)\u001b[0m\n\u001b[1;32m   3910\u001b[0m                 \u001b[0mnew_axis\u001b[0m \u001b[0;34m=\u001b[0m \u001b[0maxis\u001b[0m\u001b[0;34m.\u001b[0m\u001b[0mdrop\u001b[0m\u001b[0;34m(\u001b[0m\u001b[0mlabels\u001b[0m\u001b[0;34m,\u001b[0m \u001b[0mlevel\u001b[0m\u001b[0;34m=\u001b[0m\u001b[0mlevel\u001b[0m\u001b[0;34m,\u001b[0m \u001b[0merrors\u001b[0m\u001b[0;34m=\u001b[0m\u001b[0merrors\u001b[0m\u001b[0;34m)\u001b[0m\u001b[0;34m\u001b[0m\u001b[0;34m\u001b[0m\u001b[0m\n\u001b[1;32m   3911\u001b[0m             \u001b[0;32melse\u001b[0m\u001b[0;34m:\u001b[0m\u001b[0;34m\u001b[0m\u001b[0;34m\u001b[0m\u001b[0m\n\u001b[0;32m-> 3912\u001b[0;31m                 \u001b[0mnew_axis\u001b[0m \u001b[0;34m=\u001b[0m \u001b[0maxis\u001b[0m\u001b[0;34m.\u001b[0m\u001b[0mdrop\u001b[0m\u001b[0;34m(\u001b[0m\u001b[0mlabels\u001b[0m\u001b[0;34m,\u001b[0m \u001b[0merrors\u001b[0m\u001b[0;34m=\u001b[0m\u001b[0merrors\u001b[0m\u001b[0;34m)\u001b[0m\u001b[0;34m\u001b[0m\u001b[0;34m\u001b[0m\u001b[0m\n\u001b[0m\u001b[1;32m   3913\u001b[0m             \u001b[0mresult\u001b[0m \u001b[0;34m=\u001b[0m \u001b[0mself\u001b[0m\u001b[0;34m.\u001b[0m\u001b[0mreindex\u001b[0m\u001b[0;34m(\u001b[0m\u001b[0;34m**\u001b[0m\u001b[0;34m{\u001b[0m\u001b[0maxis_name\u001b[0m\u001b[0;34m:\u001b[0m \u001b[0mnew_axis\u001b[0m\u001b[0;34m}\u001b[0m\u001b[0;34m)\u001b[0m\u001b[0;34m\u001b[0m\u001b[0;34m\u001b[0m\u001b[0m\n\u001b[1;32m   3914\u001b[0m \u001b[0;34m\u001b[0m\u001b[0m\n",
      "\u001b[0;32m~/anaconda3/envs/EDS2020/lib/python3.7/site-packages/pandas/core/indexes/base.py\u001b[0m in \u001b[0;36mdrop\u001b[0;34m(self, labels, errors)\u001b[0m\n\u001b[1;32m   5274\u001b[0m         \u001b[0;32mif\u001b[0m \u001b[0mmask\u001b[0m\u001b[0;34m.\u001b[0m\u001b[0many\u001b[0m\u001b[0;34m(\u001b[0m\u001b[0;34m)\u001b[0m\u001b[0;34m:\u001b[0m\u001b[0;34m\u001b[0m\u001b[0;34m\u001b[0m\u001b[0m\n\u001b[1;32m   5275\u001b[0m             \u001b[0;32mif\u001b[0m \u001b[0merrors\u001b[0m \u001b[0;34m!=\u001b[0m \u001b[0;34m\"ignore\"\u001b[0m\u001b[0;34m:\u001b[0m\u001b[0;34m\u001b[0m\u001b[0;34m\u001b[0m\u001b[0m\n\u001b[0;32m-> 5276\u001b[0;31m                 \u001b[0;32mraise\u001b[0m \u001b[0mKeyError\u001b[0m\u001b[0;34m(\u001b[0m\u001b[0;34mf\"{labels[mask]} not found in axis\"\u001b[0m\u001b[0;34m)\u001b[0m\u001b[0;34m\u001b[0m\u001b[0;34m\u001b[0m\u001b[0m\n\u001b[0m\u001b[1;32m   5277\u001b[0m             \u001b[0mindexer\u001b[0m \u001b[0;34m=\u001b[0m \u001b[0mindexer\u001b[0m\u001b[0;34m[\u001b[0m\u001b[0;34m~\u001b[0m\u001b[0mmask\u001b[0m\u001b[0;34m]\u001b[0m\u001b[0;34m\u001b[0m\u001b[0;34m\u001b[0m\u001b[0m\n\u001b[1;32m   5278\u001b[0m         \u001b[0;32mreturn\u001b[0m \u001b[0mself\u001b[0m\u001b[0;34m.\u001b[0m\u001b[0mdelete\u001b[0m\u001b[0;34m(\u001b[0m\u001b[0mindexer\u001b[0m\u001b[0;34m)\u001b[0m\u001b[0;34m\u001b[0m\u001b[0;34m\u001b[0m\u001b[0m\n",
      "\u001b[0;31mKeyError\u001b[0m: \"['No. of Cases (on admission)'] not found in axis\""
     ]
    }
   ],
   "source": [
    "# Drop column \"No. of Cases (on admission)\"\n",
    "pd_table= pd_table.drop([\"No. of Cases (on admission)\"], axis=1)"
   ]
  },
  {
   "cell_type": "code",
   "execution_count": 23,
   "metadata": {},
   "outputs": [],
   "source": [
    "# Rename \"No. of Cases (Lab Confirmed)\"\n",
    "pd_table= pd_table.rename(\n",
    "    columns={\"No. of Cases (Lab Confirmed)\": \"No. of Cases\"}\n",
    ")"
   ]
  },
  {
   "cell_type": "code",
   "execution_count": 24,
   "metadata": {},
   "outputs": [],
   "source": [
    "pd_table.to_csv(\n",
    "    \"../data/processed/NCDC.csv\", sep=\";\", \n",
    ")"
   ]
  },
  {
   "cell_type": "code",
   "execution_count": null,
   "metadata": {},
   "outputs": [],
   "source": []
  }
 ],
 "metadata": {
  "language_info": {
   "codemirror_mode": {
    "name": "ipython",
    "version": 3
   },
   "file_extension": ".py",
   "mimetype": "text/x-python",
   "name": "python",
   "nbconvert_exporter": "python",
   "pygments_lexer": "ipython3",
   "version": "3.7.7-final"
  },
  "orig_nbformat": 2,
  "kernelspec": {
   "name": "python_defaultSpec_1597519310937",
   "display_name": "Python 3.7.7 64-bit ('EDS2020': conda)"
  }
 },
 "nbformat": 4,
 "nbformat_minor": 2
}